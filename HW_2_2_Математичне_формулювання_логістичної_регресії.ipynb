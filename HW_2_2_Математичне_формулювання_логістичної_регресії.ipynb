{
 "cells": [
  {
   "cell_type": "markdown",
   "metadata": {
    "id": "KxRmdyv5CIZe"
   },
   "source": [
    "В цьому домашньому завданні ми реалізуємо логістичну регресію на `numpy`.\n",
    "Ці завдання допоможуть вам ґрунтовно засвоїти основні концепції логістичної регресії та реалізувати їх на практиці 🔥\n",
    "\n",
    "#### Завдання 1: Реалізація функції сигмоїди\n",
    "1. З використанням `numpy` напишіть функцію `sigmoid(z)` для обчислення значення сигмоїди згідно з формулою:\n",
    "   $$\n",
    "   \\sigma(z) = \\frac{1}{1 + e^{-z}}\n",
    "   $$\n",
    "2. Використовуючи цю функцію, обчисліть значення сигмоїди для наступних даних: $ z = [-2, -1, 0, 1, 2] $. Виведіть результат обчислень.\n"
   ]
  },
  {
   "cell_type": "code",
   "execution_count": 2,
   "metadata": {
    "id": "v9ilfXulL2wP"
   },
   "outputs": [
    {
     "data": {
      "text/plain": [
       "array([0.11920292, 0.26894142, 0.5       , 0.73105858, 0.88079708])"
      ]
     },
     "execution_count": 2,
     "metadata": {},
     "output_type": "execute_result"
    }
   ],
   "source": [
    "import numpy as np\n",
    "\n",
    "def sigmoid(z):\n",
    "    return 1 / (1 + np.exp(-z))\n",
    "\n",
    "z_values = np.array([-2, -1, 0, 1, 2])\n",
    "sigmoid_values = sigmoid(z_values)\n",
    "\n",
    "sigmoid_values"
   ]
  },
  {
   "cell_type": "markdown",
   "metadata": {
    "id": "LVd_jCGNCR1F"
   },
   "source": [
    "\n",
    "\n",
    "#### Завдання 2: Реалізація функції гіпотези для логістичної регресії\n",
    "1. Напишіть функцію `hypothesis(theta, X)`, яка обчислює гіпотезу для логістичної регресії, використовуючи функцію сигмоїди. Формула гіпотези:\n",
    "   $$\n",
    "   h_\\theta(x) = \\sigma(\\theta^T x) = \\frac{1}{1 + e^{-\\theta^T x}}\n",
    "   $$\n",
    "2. Використайте функцію `hypothesis` для обчислення значень гіпотези для наступних даних:\n",
    "   \n",
    "   $\\theta = [0.5, -0.5]$\n",
    "   \n",
    "   $X = \\begin{bmatrix} 1 & 2 \\\\ 1 & -1 \\\\ 1 & 0 \\\\ 1 & 1 \\end{bmatrix}$\n",
    "\n",
    "  Виведіть результат обчислень.\n"
   ]
  },
  {
   "cell_type": "code",
   "execution_count": 5,
   "metadata": {
    "id": "dKDHv-YtL3TA"
   },
   "outputs": [
    {
     "data": {
      "text/plain": [
       "array([0.37754067, 0.73105858, 0.62245933, 0.5       ])"
      ]
     },
     "execution_count": 5,
     "metadata": {},
     "output_type": "execute_result"
    }
   ],
   "source": [
    "import numpy as np\n",
    "\n",
    "def sigmoid(z):\n",
    "    return 1 / (1 + np.exp(-z))\n",
    "\n",
    "def hypothesis(theta, X):\n",
    "    z = np.dot(X, theta)  \n",
    "    return sigmoid(z)  \n",
    "\n",
    "theta = np.array([0.5, -0.5])\n",
    "X = np.array([[1, 2], [1, -1], [1, 0], [1, 1]])\n",
    "\n",
    "hypothesis_values = hypothesis(theta, X)\n",
    "\n",
    "hypothesis_values"
   ]
  },
  {
   "cell_type": "markdown",
   "metadata": {
    "id": "MWASH4Z4ClTo"
   },
   "source": [
    "#### Завдання 3: Реалізація функції для підрахунку градієнтів фукнції втрат\n",
    "1. Напишіть функцію `compute_gradient(theta, X, y)`, яка обчислює градієнти функції втрат для логістичної регресії. Формула для обчислення градієнта:\n",
    "   $$\n",
    "   \\frac{\\partial L(\\theta)}{\\partial \\theta_j} = \\frac{1}{m} \\sum_{i=1}^{m} \\left[ (h_\\theta(x^{(i)}) - y^{(i)}) x_j^{(i)} \\right]\n",
    "   $$\n",
    "2. Використайте функцію `compute_gradient` для обчислення градієнтів для наступних даних:\n",
    "\n",
    "  $\\theta = [0.5, -0.5]$\n",
    "\n",
    "  $X = \\begin{bmatrix} 1 & 2 \\\\ 1 & -1 \\\\ 1 & 0 \\\\ 1 & 1 \\end{bmatrix}$\n",
    "\n",
    "  $y = [1, 0, 1, 0]$\n",
    "\n",
    "  Виведіть результат обчислень."
   ]
  },
  {
   "cell_type": "code",
   "execution_count": 8,
   "metadata": {
    "id": "0DM4xqZCL32i"
   },
   "outputs": [
    {
     "data": {
      "text/plain": [
       "array([ 0.05776464, -0.36899431])"
      ]
     },
     "execution_count": 8,
     "metadata": {},
     "output_type": "execute_result"
    }
   ],
   "source": [
    "import numpy as np\n",
    "\n",
    "def sigmoid(z):\n",
    "    return 1 / (1 + np.exp(-z))\n",
    "\n",
    "def hypothesis(theta, X):\n",
    "    z = np.dot(X, theta)  \n",
    "    return sigmoid(z)  \n",
    "\n",
    "def compute_gradient(theta, X, y):\n",
    "    m = len(y)\n",
    "    h = hypothesis(theta, X)\n",
    "    gradient = (1 / m) * np.dot(X.T, (h - y))\n",
    "    return gradient\n",
    "\n",
    "theta = np.array([0.5, -0.5])\n",
    "X = np.array([[1, 2], [1, -1], [1, 0], [1, 1]])\n",
    "y = np.array([1, 0, 1, 0])\n",
    "\n",
    "gradient_values = compute_gradient(theta, X, y)\n",
    "\n",
    "gradient_values"
   ]
  },
  {
   "cell_type": "markdown",
   "metadata": {
    "id": "nOtJEtdnC1K9"
   },
   "source": [
    "\n",
    "#### Завдання 4: Реалізація повного батч градієнтного спуску\n",
    "\n",
    "**Задача:**\n",
    "1. Напишіть функцію `full_batch_gradient_descent(X, y, lr=0.1, epochs=100)`, яка реалізує алгоритм Full градієнтного спуску для логістичної регресії. Використовуйте такі формули:\n",
    "   - Гіпотеза: $ h_\\theta(x) = \\sigma(\\theta^T x) $\n",
    "   - Оновлення параметрів: $ \\theta_j := \\theta_j - \\alpha \\frac{\\partial L(\\theta)}{\\partial \\theta_j} $\n",
    "2. Використайте функцію `full_batch_gradient_descent` для обчислення параметрів моделі на наступних даних:\n",
    "\n",
    "  $X = \\begin{bmatrix} 1 & 2 \\\\ 1 & -1 \\\\ 1 & 0 \\\\ 1 & 1 \\end{bmatrix}$\n",
    "\n",
    "  $y = [1, 0, 1, 0]$\n",
    "\n",
    "  Увага! Матриця $X$ вже має стовпець одиниць і передбачається, що це. - стовпець для intercept - параметра зсуву.\n",
    "\n",
    "  Виведіть результат обчислень.\n"
   ]
  },
  {
   "cell_type": "code",
   "execution_count": 11,
   "metadata": {
    "id": "fHtUOTxXL4Yy"
   },
   "outputs": [
    {
     "data": {
      "text/plain": [
       "array([-0.2893693 ,  0.77655125])"
      ]
     },
     "execution_count": 11,
     "metadata": {},
     "output_type": "execute_result"
    }
   ],
   "source": [
    "def full_batch_gradient_descent(X, y, lr=0.1, epochs=100):\n",
    "    theta = np.zeros(X.shape[1]) \n",
    "    \n",
    "    for epoch in range(epochs):\n",
    "        gradient = compute_gradient(theta, X, y)\n",
    "        theta = theta - lr * gradient \n",
    "    return theta\n",
    "\n",
    "X = np.array([[1, 2], [1, -1], [1, 0], [1, 1]])  \n",
    "y = np.array([1, 0, 1, 0])\n",
    "\n",
    "optimal_theta = full_batch_gradient_descent(X, y, lr=0.1, epochs=100)\n",
    "\n",
    "optimal_theta"
   ]
  },
  {
   "cell_type": "markdown",
   "metadata": {
    "id": "E4iZV55cE5f3"
   },
   "source": [
    "#### Завдання 5. Обчислення точності моделі\n",
    "\n",
    "1. Напишіть функцію `predict_proba(theta, X)`, яка використовує знайдені параметри $\\theta$ для обчислення ймовірностей належності поточного прикладу з даних до класу $y=1$ на основі значень $\\sigma(\\theta^T x)$.\n",
    "\n",
    "2. Напишіть функцію `predict(theta, X, threshold=0.5)`, яка обчислює клас з передбаченої імовірності належності екземпляра до класу 1 з порогом 0.5. Тобто якщо ймовірність менше 0.5, то передбачаємо клас 0, інакше клас 1.\n",
    "\n",
    "3. Напишіть функцію `accuracy(y_true, y_pred)`, яка обчислює точність моделі, визначивши частку правильно передбачених класів.\n",
    "\n",
    "  Формула метрики Accuracy:\n",
    "  $$\n",
    "  \\text{Accuracy} = \\frac{\\sum_{i=1}^{m} I(\\hat{{y}^{(i)}} = y^{(i)})}{m}\n",
    "  $$\n",
    "\n",
    "  де $\\hat{{y}^{(i)}}$ - передбачене значення класу, $I$ - індикаторна функція (яка дорівнює 1, якщо умова виконується, і 0 - якщо ні), $m$ - кількість прикладів.\n",
    "\n",
    "4. Обчисліть з використанням даних в завданні 4 $X$, $y$ та обчислених коефіцієнтах $\\theta$ та виведіть на екран:\n",
    "  - передбачені моделлю імовірності належності кожного з екземплярів в матриці `X` до класу 1\n",
    "  - класи кожного екземпляра з матриці `X`\n",
    "  - точність моделі."
   ]
  },
  {
   "cell_type": "code",
   "execution_count": 13,
   "metadata": {
    "id": "85ZZfPtjrsai"
   },
   "outputs": [
    {
     "data": {
      "text/plain": [
       "(array([0.77966809, 0.25617965, 0.42815828, 0.61944235]),\n",
       " array([1, 0, 0, 1]),\n",
       " 0.5)"
      ]
     },
     "execution_count": 13,
     "metadata": {},
     "output_type": "execute_result"
    }
   ],
   "source": [
    "def predict_proba(theta, X):\n",
    "    return hypothesis(theta, X)  \n",
    "\n",
    "def predict(theta, X, threshold=0.5):\n",
    "    proba = predict_proba(theta, X) \n",
    "    return (proba >= threshold).astype(int) \n",
    "\n",
    "def accuracy(y_true, y_pred):\n",
    "    return np.mean(y_true == y_pred)  \n",
    "\n",
    "theta = optimal_theta \n",
    "X = np.array([[1, 2], [1, -1], [1, 0], [1, 1]]) \n",
    "y = np.array([1, 0, 1, 0])\n",
    "\n",
    "proba = predict_proba(theta, X)\n",
    "\n",
    "y_pred = predict(theta, X)\n",
    "\n",
    "model_accuracy = accuracy(y, y_pred)\n",
    "\n",
    "proba, y_pred, model_accuracy"
   ]
  },
  {
   "cell_type": "code",
   "execution_count": null,
   "metadata": {},
   "outputs": [],
   "source": []
  }
 ],
 "metadata": {
  "colab": {
   "provenance": []
  },
  "kernelspec": {
   "display_name": "Python 3 (ipykernel)",
   "language": "python",
   "name": "python3"
  },
  "language_info": {
   "codemirror_mode": {
    "name": "ipython",
    "version": 3
   },
   "file_extension": ".py",
   "mimetype": "text/x-python",
   "name": "python",
   "nbconvert_exporter": "python",
   "pygments_lexer": "ipython3",
   "version": "3.12.4"
  }
 },
 "nbformat": 4,
 "nbformat_minor": 4
}
